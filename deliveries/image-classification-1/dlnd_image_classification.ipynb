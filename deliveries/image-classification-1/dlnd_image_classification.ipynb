{
 "cells": [
  {
   "cell_type": "markdown",
   "metadata": {
    "collapsed": true,
    "deletable": true,
    "editable": true
   },
   "source": [
    "# Image Classification\n",
    "In this project, you'll classify images from the [CIFAR-10 dataset](https://www.cs.toronto.edu/~kriz/cifar.html).  The dataset consists of airplanes, dogs, cats, and other objects. You'll preprocess the images, then train a convolutional neural network on all the samples. The images need to be normalized and the labels need to be one-hot encoded.  You'll get to apply what you learned and build a convolutional, max pooling, dropout, and fully connected layers.  At the end, you'll get to see your neural network's predictions on the sample images.\n",
    "## Get the Data\n",
    "Run the following cell to download the [CIFAR-10 dataset for python](https://www.cs.toronto.edu/~kriz/cifar-10-python.tar.gz)."
   ]
  },
  {
   "cell_type": "code",
   "execution_count": 1,
   "metadata": {
    "collapsed": false,
    "deletable": true,
    "editable": true
   },
   "outputs": [
    {
     "name": "stdout",
     "output_type": "stream",
     "text": [
      "All files found!\n"
     ]
    }
   ],
   "source": [
    "\"\"\"\n",
    "DON'T MODIFY ANYTHING IN THIS CELL THAT IS BELOW THIS LINE\n",
    "\"\"\"\n",
    "from urllib.request import urlretrieve\n",
    "from os.path import isfile, isdir\n",
    "from tqdm import tqdm\n",
    "import problem_unittests as tests\n",
    "import tarfile\n",
    "\n",
    "cifar10_dataset_folder_path = 'cifar-10-batches-py'\n",
    "\n",
    "class DLProgress(tqdm):\n",
    "    last_block = 0\n",
    "\n",
    "    def hook(self, block_num=1, block_size=1, total_size=None):\n",
    "        self.total = total_size\n",
    "        self.update((block_num - self.last_block) * block_size)\n",
    "        self.last_block = block_num\n",
    "\n",
    "if not isfile('cifar-10-python.tar.gz'):\n",
    "    with DLProgress(unit='B', unit_scale=True, miniters=1, desc='CIFAR-10 Dataset') as pbar:\n",
    "        urlretrieve(\n",
    "            'https://www.cs.toronto.edu/~kriz/cifar-10-python.tar.gz',\n",
    "            'cifar-10-python.tar.gz',\n",
    "            pbar.hook)\n",
    "\n",
    "if not isdir(cifar10_dataset_folder_path):\n",
    "    with tarfile.open('cifar-10-python.tar.gz') as tar:\n",
    "        tar.extractall()\n",
    "        tar.close()\n",
    "\n",
    "\n",
    "tests.test_folder_path(cifar10_dataset_folder_path)"
   ]
  },
  {
   "cell_type": "markdown",
   "metadata": {
    "deletable": true,
    "editable": true
   },
   "source": [
    "## Explore the Data\n",
    "The dataset is broken into batches to prevent your machine from running out of memory.  The CIFAR-10 dataset consists of 5 batches, named `data_batch_1`, `data_batch_2`, etc.. Each batch contains the labels and images that are one of the following:\n",
    "* airplane\n",
    "* automobile\n",
    "* bird\n",
    "* cat\n",
    "* deer\n",
    "* dog\n",
    "* frog\n",
    "* horse\n",
    "* ship\n",
    "* truck\n",
    "\n",
    "Understanding a dataset is part of making predictions on the data.  Play around with the code cell below by changing the `batch_id` and `sample_id`. The `batch_id` is the id for a batch (1-5). The `sample_id` is the id for a image and label pair in the batch.\n",
    "\n",
    "Ask yourself \"What are all possible labels?\", \"What is the range of values for the image data?\", \"Are the labels in order or random?\".  Answers to questions like these will help you preprocess the data and end up with better predictions."
   ]
  },
  {
   "cell_type": "code",
   "execution_count": 2,
   "metadata": {
    "collapsed": false,
    "deletable": true,
    "editable": true
   },
   "outputs": [
    {
     "name": "stdout",
     "output_type": "stream",
     "text": [
      "\n",
      "Stats of batch 1:\n",
      "Samples: 10000\n",
      "Label Counts: {0: 1005, 1: 974, 2: 1032, 3: 1016, 4: 999, 5: 937, 6: 1030, 7: 1001, 8: 1025, 9: 981}\n",
      "First 20 Labels: [6, 9, 9, 4, 1, 1, 2, 7, 8, 3, 4, 7, 7, 2, 9, 9, 9, 3, 2, 6]\n",
      "\n",
      "Example of Image 5:\n",
      "Image - Min Value: 0 Max Value: 252\n",
      "Image - Shape: (32, 32, 3)\n",
      "Label - Label Id: 1 Name: automobile\n",
      "\n",
      "Stats of batch 2:\n",
      "Samples: 10000\n",
      "Label Counts: {0: 984, 1: 1007, 2: 1010, 3: 995, 4: 1010, 5: 988, 6: 1008, 7: 1026, 8: 987, 9: 985}\n",
      "First 20 Labels: [1, 6, 6, 8, 8, 3, 4, 6, 0, 6, 0, 3, 6, 6, 5, 4, 8, 3, 2, 6]\n",
      "\n",
      "Example of Image 5:\n",
      "Image - Min Value: 3 Max Value: 219\n",
      "Image - Shape: (32, 32, 3)\n",
      "Label - Label Id: 3 Name: cat\n",
      "\n",
      "Stats of batch 3:\n",
      "Samples: 10000\n",
      "Label Counts: {0: 994, 1: 1042, 2: 965, 3: 997, 4: 990, 5: 1029, 6: 978, 7: 1015, 8: 961, 9: 1029}\n",
      "First 20 Labels: [8, 5, 0, 6, 9, 2, 8, 3, 6, 2, 7, 4, 6, 9, 0, 0, 7, 3, 7, 2]\n",
      "\n",
      "Example of Image 5:\n",
      "Image - Min Value: 9 Max Value: 255\n",
      "Image - Shape: (32, 32, 3)\n",
      "Label - Label Id: 2 Name: bird\n",
      "\n",
      "Stats of batch 4:\n",
      "Samples: 10000\n",
      "Label Counts: {0: 1003, 1: 963, 2: 1041, 3: 976, 4: 1004, 5: 1021, 6: 1004, 7: 981, 8: 1024, 9: 983}\n",
      "First 20 Labels: [0, 6, 0, 2, 7, 2, 1, 2, 4, 1, 5, 6, 6, 3, 1, 3, 5, 5, 8, 1]\n",
      "\n",
      "Example of Image 5:\n",
      "Image - Min Value: 13 Max Value: 169\n",
      "Image - Shape: (32, 32, 3)\n",
      "Label - Label Id: 2 Name: bird\n"
     ]
    },
    {
     "data": {
      "image/png": "[encoded data removed]",
      "text/plain": [
       "<matplotlib.figure.Figure at 0x9ca0a58>"
      ]
     },
     "metadata": {
      "image/png": {
       "height": 141,
       "width": 144
      }
     },
     "output_type": "display_data"
    },
    {
     "data": {
      "image/png": "[encoded data removed]",
      "text/plain": [
       "<matplotlib.figure.Figure at 0x4540748>"
      ]
     },
     "metadata": {
      "image/png": {
       "height": 141,
       "width": 144
      }
     },
     "output_type": "display_data"
    },
    {
     "data": {
      "image/png": "[encoded data removed]",
      "text/plain": [
       "<matplotlib.figure.Figure at 0xb876e80>"
      ]
     },
     "metadata": {
      "image/png": {
       "height": 141,
       "width": 144
      }
     },
     "output_type": "display_data"
    },
    {
     "data": {
      "image/png": "[encoded data removed]",
      "text/plain": [
       "<matplotlib.figure.Figure at 0xb893ac8>"
      ]
     },
     "metadata": {
      "image/png": {
       "height": 141,
       "width": 144
      }
     },
     "output_type": "display_data"
    }
   ],
   "source": [
    "%matplotlib inline\n",
    "%config InlineBackend.figure_format = 'retina'\n",
    "\n",
    "import helper\n",
    "import numpy as np\n",
    "import matplotlib.pyplot as plt\n",
    "\n",
    "# Explore the dataset\n",
    "batch_id = 1\n",
    "sample_id = 5\n",
    "for batch_id in range(1,5):\n",
    "    plt.figure(figsize=(2,2))\n",
    "    helper.display_stats(cifar10_dataset_folder_path, batch_id, sample_id)"
   ]
  },
  {
   "cell_type": "markdown",
   "metadata": {
    "deletable": true,
    "editable": true
   },
   "source": [
    "## Implement Preprocess Functions\n",
    "### Normalize\n",
    "In the cell below, implement the `normalize` function to take in image data, `x`, and return it as a normalized Numpy array. The values should be in the range of 0 to 1, inclusive.  The return object should be the same shape as `x`."
   ]
  },
  {
   "cell_type": "code",
   "execution_count": 3,
   "metadata": {
    "collapsed": false,
    "deletable": true,
    "editable": true
   },
   "outputs": [
    {
     "name": "stdout",
     "output_type": "stream",
     "text": [
      "Tests Passed\n"
     ]
    }
   ],
   "source": [
    "pixel_depth = 255.0\n",
    "\n",
    "def normalize(x):\n",
    "    \"\"\"\n",
    "    Normalize a list of sample image data in the range of 0 to 1\n",
    "    : x: List of image data.  The image shape is (32, 32, 3)\n",
    "    : return: Numpy array of normalize data\n",
    "    \"\"\"\n",
    "    x_norm = np.zeros(shape=x.shape)\n",
    "    for idx, img in enumerate(x):\n",
    "        x_norm[idx] = img.astype(float) / pixel_depth\n",
    "    \n",
    "    return x_norm\n",
    "\n",
    "\n",
    "\n",
    "\"\"\"\n",
    "DON'T MODIFY ANYTHING IN THIS CELL THAT IS BELOW THIS LINE\n",
    "\"\"\"\n",
    "tests.test_normalize(normalize)"
   ]
  },
  {
   "cell_type": "markdown",
   "metadata": {
    "deletable": true,
    "editable": true
   },
   "source": [
    "### One-hot encode\n",
    "Just like the previous code cell, you'll be implementing a function for preprocessing.  This time, you'll implement the `one_hot_encode` function. The input, `x`, are a list of labels.  Implement the function to return the list of labels as One-Hot encoded Numpy array.  The possible values for labels are 0 to 9. The one-hot encoding function should return the same encoding for each value between each call to `one_hot_encode`.  Make sure to save the map of encodings outside the function.\n",
    "\n",
    "**Hint:**\n",
    "\n",
    "Look into LabelBinarizer in the preprocessing module of sklearn."
   ]
  },
  {
   "cell_type": "code",
   "execution_count": 4,
   "metadata": {
    "collapsed": false,
    "deletable": true,
    "editable": true
   },
   "outputs": [
    {
     "name": "stdout",
     "output_type": "stream",
     "text": [
      "Tests Passed\n"
     ]
    }
   ],
   "source": [
    "from sklearn.preprocessing import LabelBinarizer\n",
    "label_binarizer = LabelBinarizer()\n",
    "label_binarizer.classes_ = None\n",
    "\n",
    "def one_hot_encode(x):\n",
    "    \"\"\"\n",
    "    One hot encode a list of sample labels. Return a one-hot encoded vector for each label.\n",
    "    : x: List of sample Labels\n",
    "    : return: Numpy array of one-hot encoded labels\n",
    "    \"\"\"\n",
    "    if label_binarizer.classes_ is None:\n",
    "        label_binarizer.fit(x)\n",
    "        \n",
    "    return label_binarizer.transform(x)\n",
    "\n",
    "\n",
    "\"\"\"\n",
    "DON'T MODIFY ANYTHING IN THIS CELL THAT IS BELOW THIS LINE\n",
    "\"\"\"\n",
    "tests.test_one_hot_encode(one_hot_encode)"
   ]
  },
  {
   "cell_type": "markdown",
   "metadata": {
    "deletable": true,
    "editable": true
   },
   "source": [
    "### Randomize Data\n",
    "As you saw from exploring the data above, the order of the samples are randomized.  It doesn't hurt to randomize it again, but you don't need to for this dataset."
   ]
  },
  {
   "cell_type": "markdown",
   "metadata": {
    "deletable": true,
    "editable": true
   },
   "source": [
    "## Preprocess all the data and save it\n",
    "Running the code cell below will preprocess all the CIFAR-10 data and save it to file. The code below also uses 10% of the training data for validation."
   ]
  },
  {
   "cell_type": "code",
   "execution_count": 5,
   "metadata": {
    "collapsed": false,
    "deletable": true,
    "editable": true
   },
   "outputs": [],
   "source": [
    "\"\"\"\n",
    "DON'T MODIFY ANYTHING IN THIS CELL\n",
    "\"\"\"\n",
    "# Preprocess Training, Validation, and Testing Data\n",
    "helper.preprocess_and_save_data(cifar10_dataset_folder_path, normalize, one_hot_encode)"
   ]
  },
  {
   "cell_type": "markdown",
   "metadata": {
    "deletable": true,
    "editable": true
   },
   "source": [
    "# Check Point\n",
    "This is your first checkpoint.  If you ever decide to come back to this notebook or have to restart the notebook, you can start from here.  The preprocessed data has been saved to disk."
   ]
  },
  {
   "cell_type": "code",
   "execution_count": 1,
   "metadata": {
    "collapsed": true,
    "deletable": true,
    "editable": true
   },
   "outputs": [],
   "source": [
    "\"\"\"\n",
    "DON'T MODIFY ANYTHING IN THIS CELL\n",
    "\"\"\"\n",
    "import pickle\n",
    "import problem_unittests as tests\n",
    "import helper\n",
    "import numpy as np\n",
    "import matplotlib.pyplot as plt\n",
    "\n",
    "# Load the Preprocessed Validation data\n",
    "valid_features, valid_labels = pickle.load(open('preprocess_validation.p', mode='rb'))"
   ]
  },
  {
   "cell_type": "markdown",
   "metadata": {
    "deletable": true,
    "editable": true
   },
   "source": [
    "# Build the network\n",
    "For the neural network, you'll build each layer into a function.  Most of the code you've seen has been outside of functions. To test your code more thoroughly, we require that you put each layer in a function.  This allows us to give you better feedback and test for simple mistakes using our unittests before you submit your project.\n",
    "\n",
    ">**Note:** If you're finding it hard to dedicate enough time for this course each week, we've provided a small shortcut to this part of the project. In the next couple of problems, you'll have the option to use classes from the [TensorFlow Layers](https://www.tensorflow.org/api_docs/python/tf/layers) or [TensorFlow Layers (contrib)](https://www.tensorflow.org/api_guides/python/contrib.layers) packages to build each layer, except the layers you build in the \"Convolutional and Max Pooling Layer\" section.  TF Layers is similar to Keras's and TFLearn's abstraction to layers, so it's easy to pickup.\n",
    "\n",
    ">However, if you would like to get the most out of this course, try to solve all the problems _without_ using anything from the TF Layers packages. You **can** still use classes from other packages that happen to have the same name as ones you find in TF Layers! For example, instead of using the TF Layers version of the `conv2d` class, [tf.layers.conv2d](https://www.tensorflow.org/api_docs/python/tf/layers/conv2d), you would want to use the TF Neural Network version of `conv2d`, [tf.nn.conv2d](https://www.tensorflow.org/api_docs/python/tf/nn/conv2d). \n",
    "\n",
    "Let's begin!\n",
    "\n",
    "### Input\n",
    "The neural network needs to read the image data, one-hot encoded labels, and dropout keep probability. Implement the following functions\n",
    "* Implement `neural_net_image_input`\n",
    " * Return a [TF Placeholder](https://www.tensorflow.org/api_docs/python/tf/placeholder)\n",
    " * Set the shape using `image_shape` with batch size set to `None`.\n",
    " * Name the TensorFlow placeholder \"x\" using the TensorFlow `name` parameter in the [TF Placeholder](https://www.tensorflow.org/api_docs/python/tf/placeholder).\n",
    "* Implement `neural_net_label_input`\n",
    " * Return a [TF Placeholder](https://www.tensorflow.org/api_docs/python/tf/placeholder)\n",
    " * Set the shape using `n_classes` with batch size set to `None`.\n",
    " * Name the TensorFlow placeholder \"y\" using the TensorFlow `name` parameter in the [TF Placeholder](https://www.tensorflow.org/api_docs/python/tf/placeholder).\n",
    "* Implement `neural_net_keep_prob_input`\n",
    " * Return a [TF Placeholder](https://www.tensorflow.org/api_docs/python/tf/placeholder) for dropout keep probability.\n",
    " * Name the TensorFlow placeholder \"keep_prob\" using the TensorFlow `name` parameter in the [TF Placeholder](https://www.tensorflow.org/api_docs/python/tf/placeholder).\n",
    "\n",
    "These names will be used at the end of the project to load your saved model.\n",
    "\n",
    "Note: `None` for shapes in TensorFlow allow for a dynamic size."
   ]
  },
  {
   "cell_type": "code",
   "execution_count": 2,
   "metadata": {
    "collapsed": false,
    "deletable": true,
    "editable": true
   },
   "outputs": [
    {
     "name": "stdout",
     "output_type": "stream",
     "text": [
      "Image Input Tests Passed.\n",
      "Label Input Tests Passed.\n",
      "Keep Prob Tests Passed.\n"
     ]
    }
   ],
   "source": [
    "import tensorflow as tf\n",
    "\n",
    "def neural_net_image_input(image_shape):\n",
    "    \"\"\"\n",
    "    Return a Tensor for a batch of image input\n",
    "    : image_shape: Shape of the images\n",
    "    : return: Tensor for image input.\n",
    "    \"\"\"\n",
    "    shape = np.append([None], image_shape, axis=0)\n",
    "    return tf.placeholder(tf.float32, shape, \"x\")\n",
    "\n",
    "\n",
    "def neural_net_label_input(n_classes):\n",
    "    \"\"\"\n",
    "    Return a Tensor for a batch of label input\n",
    "    : n_classes: Number of classes\n",
    "    : return: Tensor for label input.\n",
    "    \"\"\"\n",
    "    shape = np.append([None], [n_classes], axis=0)\n",
    "    return tf.placeholder(tf.float32, shape, \"y\") \n",
    "\n",
    "\n",
    "def neural_net_keep_prob_input():\n",
    "    \"\"\"\n",
    "    Return a Tensor for keep probability\n",
    "    : return: Tensor for keep probability.\n",
    "    \"\"\"\n",
    "    return tf.placeholder(dtype=tf.float32, name=\"keep_prob\")\n",
    "\n",
    "\n",
    "\"\"\"\n",
    "DON'T MODIFY ANYTHING IN THIS CELL THAT IS BELOW THIS LINE\n",
    "\"\"\"\n",
    "tf.reset_default_graph()\n",
    "tests.test_nn_image_inputs(neural_net_image_input)\n",
    "tests.test_nn_label_inputs(neural_net_label_input)\n",
    "tests.test_nn_keep_prob_inputs(neural_net_keep_prob_input)"
   ]
  },
  {
   "cell_type": "markdown",
   "metadata": {
    "deletable": true,
    "editable": true
   },
   "source": [
    "### Convolution and Max Pooling Layer\n",
    "Convolution layers have a lot of success with images. For this code cell, you should implement the function `conv2d_maxpool` to apply convolution then max pooling:\n",
    "* Create the weight and bias using `conv_ksize`, `conv_num_outputs` and the shape of `x_tensor`.\n",
    "* Apply a convolution to `x_tensor` using weight and `conv_strides`.\n",
    " * We recommend you use same padding, but you're welcome to use any padding.\n",
    "* Add bias\n",
    "* Add a nonlinear activation to the convolution.\n",
    "* Apply Max Pooling using `pool_ksize` and `pool_strides`.\n",
    " * We recommend you use same padding, but you're welcome to use any padding.\n",
    "\n",
    "**Note:** You **can't** use [TensorFlow Layers](https://www.tensorflow.org/api_docs/python/tf/layers) or [TensorFlow Layers (contrib)](https://www.tensorflow.org/api_guides/python/contrib.layers) for **this** layer, but you can still use TensorFlow's [Neural Network](https://www.tensorflow.org/api_docs/python/tf/nn) package. You may still use the shortcut option for all the **other** layers.\n",
    "\n",
    "** Hint: **\n",
    "\n",
    "When unpacking values as an argument in Python, look into the [unpacking](https://docs.python.org/3/tutorial/controlflow.html#unpacking-argument-lists) operator. "
   ]
  },
  {
   "cell_type": "code",
   "execution_count": 3,
   "metadata": {
    "collapsed": true,
    "deletable": true,
    "editable": true
   },
   "outputs": [],
   "source": [
    "mean = 0.0\n",
    "stddev = 0.1"
   ]
  },
  {
   "cell_type": "code",
   "execution_count": 4,
   "metadata": {
    "collapsed": false,
    "deletable": true,
    "editable": true
   },
   "outputs": [
    {
     "name": "stdout",
     "output_type": "stream",
     "text": [
      "Tests Passed\n"
     ]
    }
   ],
   "source": [
    "def conv2d_maxpool(x_tensor, conv_num_outputs, conv_ksize, conv_strides, pool_ksize, pool_strides):\n",
    "    \"\"\"\n",
    "    Apply convolution then max pooling to x_tensor\n",
    "    :param x_tensor: TensorFlow Tensor\n",
    "    :param conv_num_outputs: Number of outputs for the convolutional layer\n",
    "    :param conv_ksize: kernal size 2-D Tuple for the convolutional layer\n",
    "    :param conv_strides: Stride 2-D Tuple for convolution\n",
    "    :param pool_ksize: kernal size 2-D Tuple for pool\n",
    "    :param pool_strides: Stride 2-D Tuple for pool\n",
    "    : return: A tensor that represents convolution and max pooling of x_tensor\n",
    "    \"\"\"\n",
    "    inputs_dim = int(x_tensor.get_shape()[-1])\n",
    "    weights = tf.Variable(tf.truncated_normal([conv_ksize[0], conv_ksize[1], inputs_dim, conv_num_outputs], mean, stddev, seed=42))\n",
    "    bias = tf.Variable(tf.zeros([conv_num_outputs]))\n",
    "    \n",
    "    x = tf.nn.conv2d(x_tensor, weights, strides=[1, conv_strides[0], conv_strides[1], 1], padding='SAME')\n",
    "    x = tf.nn.bias_add(x, bias)\n",
    "    x = tf.nn.relu(x)\n",
    "    x = tf.nn.max_pool(\n",
    "        x,\n",
    "        ksize=[1, pool_ksize[0], pool_ksize[1], 1],\n",
    "        strides=[1, pool_strides[0], pool_strides[1], 1],\n",
    "        padding='SAME')\n",
    "    \n",
    "    return x \n",
    "\n",
    "\n",
    "\"\"\"\n",
    "DON'T MODIFY ANYTHING IN THIS CELL THAT IS BELOW THIS LINE\n",
    "\"\"\"\n",
    "tests.test_con_pool(conv2d_maxpool)"
   ]
  },
  {
   "cell_type": "markdown",
   "metadata": {
    "deletable": true,
    "editable": true
   },
   "source": [
    "### Flatten Layer\n",
    "Implement the `flatten` function to change the dimension of `x_tensor` from a 4-D tensor to a 2-D tensor.  The output should be the shape (*Batch Size*, *Flattened Image Size*). Shortcut option: you can use classes from the [TensorFlow Layers](https://www.tensorflow.org/api_docs/python/tf/layers) or [TensorFlow Layers (contrib)](https://www.tensorflow.org/api_guides/python/contrib.layers) packages for this layer. For more of a challenge, only use other TensorFlow packages."
   ]
  },
  {
   "cell_type": "code",
   "execution_count": 5,
   "metadata": {
    "collapsed": false,
    "deletable": true,
    "editable": true
   },
   "outputs": [
    {
     "name": "stdout",
     "output_type": "stream",
     "text": [
      "Tests Passed\n"
     ]
    }
   ],
   "source": [
    "def flatten(x_tensor):\n",
    "    \"\"\"\n",
    "    Flatten x_tensor to (Batch Size, Flattened Image Size)\n",
    "    : x_tensor: A tensor of size (Batch Size, ...), where ... are the image dimensions.\n",
    "    : return: A tensor of size (Batch Size, Flattened Image Size).\n",
    "    \"\"\"\n",
    "    shape = x_tensor.get_shape().as_list()\n",
    "    d2 = 1\n",
    "    for x in shape[1:]:\n",
    "        d2 *= int(x)    \n",
    "    x_tensor_flat = tf.reshape(x_tensor, [-1, d2])\n",
    "    return x_tensor_flat\n",
    "\n",
    "\n",
    "\"\"\"\n",
    "DON'T MODIFY ANYTHING IN THIS CELL THAT IS BELOW THIS LINE\n",
    "\"\"\"\n",
    "tests.test_flatten(flatten)"
   ]
  },
  {
   "cell_type": "markdown",
   "metadata": {
    "deletable": true,
    "editable": true
   },
   "source": [
    "### Fully-Connected Layer\n",
    "Implement the `fully_conn` function to apply a fully connected layer to `x_tensor` with the shape (*Batch Size*, *num_outputs*). Shortcut option: you can use classes from the [TensorFlow Layers](https://www.tensorflow.org/api_docs/python/tf/layers) or [TensorFlow Layers (contrib)](https://www.tensorflow.org/api_guides/python/contrib.layers) packages for this layer. For more of a challenge, only use other TensorFlow packages."
   ]
  },
  {
   "cell_type": "code",
   "execution_count": 6,
   "metadata": {
    "collapsed": false,
    "deletable": true,
    "editable": true
   },
   "outputs": [
    {
     "name": "stdout",
     "output_type": "stream",
     "text": [
      "Tests Passed\n"
     ]
    }
   ],
   "source": [
    "def fully_conn(x_tensor, num_outputs):\n",
    "    \"\"\"\n",
    "    Apply a fully connected layer to x_tensor using weight and bias\n",
    "    : x_tensor: A 2-D tensor where the first dimension is batch size.\n",
    "    : num_outputs: The number of output that the new tensor should be.\n",
    "    : return: A 2-D tensor where the second dimension is num_outputs.\n",
    "    \"\"\"\n",
    "    d1 = int(x_tensor.get_shape().as_list()[1])\n",
    "    weights = tf.Variable(tf.truncated_normal([d1, num_outputs], mean, stddev, seed=42))\n",
    "    biases = tf.Variable(tf.zeros([num_outputs]))\n",
    "                          \n",
    "    x = tf.add(tf.matmul(x_tensor, weights), biases)\n",
    "    x = tf.nn.relu(x)            \n",
    "    return x\n",
    "\n",
    "\n",
    "\"\"\"\n",
    "DON'T MODIFY ANYTHING IN THIS CELL THAT IS BELOW THIS LINE\n",
    "\"\"\"\n",
    "tests.test_fully_conn(fully_conn)"
   ]
  },
  {
   "cell_type": "markdown",
   "metadata": {
    "deletable": true,
    "editable": true
   },
   "source": [
    "### Output Layer\n",
    "Implement the `output` function to apply a fully connected layer to `x_tensor` with the shape (*Batch Size*, *num_outputs*). Shortcut option: you can use classes from the [TensorFlow Layers](https://www.tensorflow.org/api_docs/python/tf/layers) or [TensorFlow Layers (contrib)](https://www.tensorflow.org/api_guides/python/contrib.layers) packages for this layer. For more of a challenge, only use other TensorFlow packages.\n",
    "\n",
    "**Note:** Activation, softmax, or cross entropy should **not** be applied to this."
   ]
  },
  {
   "cell_type": "code",
   "execution_count": 7,
   "metadata": {
    "collapsed": false,
    "deletable": true,
    "editable": true
   },
   "outputs": [
    {
     "name": "stdout",
     "output_type": "stream",
     "text": [
      "Tests Passed\n"
     ]
    }
   ],
   "source": [
    "def output(x_tensor, num_outputs):\n",
    "    \"\"\"\n",
    "    Apply a output layer to x_tensor using weight and bias\n",
    "    : x_tensor: A 2-D tensor where the first dimension is batch size.\n",
    "    : num_outputs: The number of output that the new tensor should be.\n",
    "    : return: A 2-D tensor where the second dimension is num_outputs.\n",
    "    \"\"\"\n",
    "    d1 = int(x_tensor.get_shape().as_list()[1])\n",
    "    weights = tf.Variable(tf.truncated_normal([d1, num_outputs], mean, stddev, seed=42))\n",
    "    biases = tf.Variable(tf.zeros([num_outputs]))\n",
    "    \n",
    "    out = tf.add(tf.matmul(x_tensor, weights), biases)\n",
    "    return out\n",
    "\n",
    "\n",
    "\"\"\"\n",
    "DON'T MODIFY ANYTHING IN THIS CELL THAT IS BELOW THIS LINE\n",
    "\"\"\"\n",
    "tests.test_output(output)"
   ]
  },
  {
   "cell_type": "markdown",
   "metadata": {
    "deletable": true,
    "editable": true
   },
   "source": [
    "### Create Convolutional Model\n",
    "Implement the function `conv_net` to create a convolutional neural network model. The function takes in a batch of images, `x`, and outputs logits.  Use the layers you created above to create this model:\n",
    "\n",
    "* Apply 1, 2, or 3 Convolution and Max Pool layers\n",
    "* Apply a Flatten Layer\n",
    "* Apply 1, 2, or 3 Fully Connected Layers\n",
    "* Apply an Output Layer\n",
    "* Return the output\n",
    "* Apply [TensorFlow's Dropout](https://www.tensorflow.org/api_docs/python/tf/nn/dropout) to one or more layers in the model using `keep_prob`. "
   ]
  },
  {
   "cell_type": "code",
   "execution_count": 8,
   "metadata": {
    "collapsed": false,
    "deletable": true,
    "editable": true
   },
   "outputs": [
    {
     "name": "stdout",
     "output_type": "stream",
     "text": [
      "Neural Network Built!\n"
     ]
    }
   ],
   "source": [
    "def conv_net(x, keep_prob):\n",
    "    \"\"\"\n",
    "    Create a convolutional neural network model\n",
    "    : x: Placeholder tensor that holds image data.\n",
    "    : keep_prob: Placeholder tensor that hold dropout keep probability.\n",
    "    : return: Tensor that represents logits\n",
    "    \"\"\"\n",
    "    # TODO: Apply 1, 2, or 3 Convolution and Max Pool layers\n",
    "    #    Play around with different number of outputs, kernel size and stride\n",
    "    # Function Definition from Above:\n",
    "    #    conv2d_maxpool(x_tensor, conv_num_outputs, conv_ksize, conv_strides, pool_ksize, pool_strides)\n",
    "    conv1 = conv2d_maxpool(x, 32, (3, 3), (1, 1), (2, 2), (2, 2))\n",
    "    conv1 = tf.nn.dropout(conv1, keep_prob)\n",
    "    conv2 = conv2d_maxpool(conv1, 64, (3, 3), (1, 1), (2, 2), (2, 2))\n",
    "    conv2 = tf.nn.dropout(conv2, keep_prob)\n",
    "    conv3 = conv2d_maxpool(conv2, 96, (2, 2), (2, 2), (2, 2), (2, 2))\n",
    "    conv3 = tf.nn.dropout(conv3, keep_prob)\n",
    "\n",
    "    # TODO: Apply a Flatten Layer\n",
    "    # Function Definition from Above:\n",
    "    #   flatten(x_tensor)\n",
    "    flat = flatten(conv3)\n",
    "\n",
    "    # TODO: Apply 1, 2, or 3 Fully Connected Layers\n",
    "    #    Play around with different number of outputs\n",
    "    # Function Definition from Above:\n",
    "    #   fully_conn(x_tensor, num_outputs)\n",
    "    fc1 = fully_conn(flat, 1024)\n",
    "    fc1 = tf.nn.dropout(fc1, keep_prob)\n",
    "    fc2 = fully_conn(fc1, 1024)\n",
    "    fc2 = tf.nn.dropout(fc2, keep_prob)\n",
    "    \n",
    "    # TODO: Apply an Output Layer\n",
    "    #    Set this to the number of classes\n",
    "    # Function Definition from Above:\n",
    "    #   output(x_tensor, num_outputs)\n",
    "    out = output(fc1, 10)\n",
    "    \n",
    "    # TODO: return output\n",
    "    return out\n",
    "\n",
    "\n",
    "\"\"\"\n",
    "DON'T MODIFY ANYTHING IN THIS CELL THAT IS BELOW THIS LINE\n",
    "\"\"\"\n",
    "\n",
    "##############################\n",
    "## Build the Neural Network ##\n",
    "##############################\n",
    "\n",
    "# Remove previous weights, bias, inputs, etc..\n",
    "tf.reset_default_graph()\n",
    "\n",
    "# Inputs\n",
    "x = neural_net_image_input((32, 32, 3))\n",
    "y = neural_net_label_input(10)\n",
    "keep_prob = neural_net_keep_prob_input()\n",
    "\n",
    "# Model\n",
    "logits = conv_net(x, keep_prob)\n",
    "\n",
    "# Name logits Tensor, so that is can be loaded from disk after training\n",
    "logits = tf.identity(logits, name='logits')\n",
    "\n",
    "# Loss and Optimizer\n",
    "cost = tf.reduce_mean(tf.nn.softmax_cross_entropy_with_logits(logits=logits, labels=y))\n",
    "optimizer = tf.train.AdamOptimizer().minimize(cost)\n",
    "\n",
    "# Accuracy\n",
    "correct_pred = tf.equal(tf.argmax(logits, 1), tf.argmax(y, 1))\n",
    "accuracy = tf.reduce_mean(tf.cast(correct_pred, tf.float32), name='accuracy')\n",
    "\n",
    "tests.test_conv_net(conv_net)"
   ]
  },
  {
   "cell_type": "markdown",
   "metadata": {
    "deletable": true,
    "editable": true
   },
   "source": [
    "## Train the Neural Network\n",
    "### Single Optimization\n",
    "Implement the function `train_neural_network` to do a single optimization.  The optimization should use `optimizer` to optimize in `session` with a `feed_dict` of the following:\n",
    "* `x` for image input\n",
    "* `y` for labels\n",
    "* `keep_prob` for keep probability for dropout\n",
    "\n",
    "This function will be called for each batch, so `tf.global_variables_initializer()` has already been called.\n",
    "\n",
    "Note: Nothing needs to be returned. This function is only optimizing the neural network."
   ]
  },
  {
   "cell_type": "code",
   "execution_count": 9,
   "metadata": {
    "collapsed": false,
    "deletable": true,
    "editable": true
   },
   "outputs": [
    {
     "name": "stdout",
     "output_type": "stream",
     "text": [
      "Tests Passed\n"
     ]
    }
   ],
   "source": [
    "def train_neural_network(session, optimizer, keep_probability, feature_batch, label_batch):\n",
    "    \"\"\"\n",
    "    Optimize the session on a batch of images and labels\n",
    "    : session: Current TensorFlow session\n",
    "    : optimizer: TensorFlow optimizer function\n",
    "    : keep_probability: keep probability\n",
    "    : feature_batch: Batch of Numpy image data\n",
    "    : label_batch: Batch of Numpy label data\n",
    "    \"\"\"\n",
    "    # TODO: Implement Function\n",
    "    session.run(optimizer, feed_dict={\n",
    "        x: feature_batch,\n",
    "        y: label_batch,\n",
    "        keep_prob: keep_probability})\n",
    "\n",
    "\n",
    "\"\"\"\n",
    "DON'T MODIFY ANYTHING IN THIS CELL THAT IS BELOW THIS LINE\n",
    "\"\"\"\n",
    "tests.test_train_nn(train_neural_network)"
   ]
  },
  {
   "cell_type": "markdown",
   "metadata": {
    "deletable": true,
    "editable": true
   },
   "source": [
    "### Show Stats\n",
    "Implement the function `print_stats` to print loss and validation accuracy.  Use the global variables `valid_features` and `valid_labels` to calculate validation accuracy.  Use a keep probability of `1.0` to calculate the loss and validation accuracy."
   ]
  },
  {
   "cell_type": "code",
   "execution_count": 10,
   "metadata": {
    "collapsed": false,
    "deletable": true,
    "editable": true
   },
   "outputs": [],
   "source": [
    "def print_stats(session, feature_batch, label_batch, cost, accuracy):\n",
    "    \"\"\"\n",
    "    Print information about loss and validation accuracy\n",
    "    : session: Current TensorFlow session\n",
    "    : feature_batch: Batch of Numpy image data\n",
    "    : label_batch: Batch of Numpy label data\n",
    "    : cost: TensorFlow cost function\n",
    "    : accuracy: TensorFlow accuracy function\n",
    "    \"\"\"\n",
    "    loss = session.run(cost, feed_dict={\n",
    "        x: feature_batch,\n",
    "        y: label_batch,\n",
    "        keep_prob: 1.0})\n",
    "    \n",
    "    valid_acc = session.run(accuracy, feed_dict={\n",
    "        x: valid_features,\n",
    "        y: valid_labels,\n",
    "        keep_prob: 1.0})\n",
    "    \n",
    "    print('Loss: {:>10.4f} || Validation Accuracy: {:.6f}'.format(loss, valid_acc))"
   ]
  },
  {
   "cell_type": "markdown",
   "metadata": {
    "deletable": true,
    "editable": true
   },
   "source": [
    "### Hyperparameters\n",
    "Tune the following parameters:\n",
    "* Set `epochs` to the number of iterations until the network stops learning or start overfitting\n",
    "* Set `batch_size` to the highest number that your machine has memory for.  Most people set them to common sizes of memory:\n",
    " * 64\n",
    " * 128\n",
    " * 256\n",
    " * ...\n",
    "* Set `keep_probability` to the probability of keeping a node using dropout"
   ]
  },
  {
   "cell_type": "code",
   "execution_count": 11,
   "metadata": {
    "collapsed": true,
    "deletable": true,
    "editable": true
   },
   "outputs": [],
   "source": [
    "# TODO: Tune Parameters\n",
    "epochs = 40\n",
    "batch_size = 64\n",
    "keep_probability = 0.75"
   ]
  },
  {
   "cell_type": "markdown",
   "metadata": {
    "deletable": true,
    "editable": true
   },
   "source": [
    "### Train on a Single CIFAR-10 Batch\n",
    "Instead of training the neural network on all the CIFAR-10 batches of data, let's use a single batch. This should save time while you iterate on the model to get a better accuracy.  Once the final validation accuracy is 50% or greater, run the model on all the data in the next section."
   ]
  },
  {
   "cell_type": "code",
   "execution_count": 12,
   "metadata": {
    "collapsed": false,
    "deletable": true,
    "editable": true
   },
   "outputs": [
    {
     "name": "stdout",
     "output_type": "stream",
     "text": [
      "Checking the Training on a Single Batch...\n",
      "Epoch  1, CIFAR-10 Batch 1:  \n",
      "Loss:     1.9535 || Validation Accuracy: 0.323400\n",
      "Epoch  2, CIFAR-10 Batch 1:  \n",
      "Loss:     1.8290 || Validation Accuracy: 0.350600\n",
      "Epoch  3, CIFAR-10 Batch 1:  \n",
      "Loss:     1.6920 || Validation Accuracy: 0.410600\n",
      "Epoch  4, CIFAR-10 Batch 1:  \n",
      "Loss:     1.6177 || Validation Accuracy: 0.417400\n",
      "Epoch  5, CIFAR-10 Batch 1:  \n",
      "Loss:     1.5295 || Validation Accuracy: 0.474600\n",
      "Epoch  6, CIFAR-10 Batch 1:  \n",
      "Loss:     1.4537 || Validation Accuracy: 0.477800\n",
      "Epoch  7, CIFAR-10 Batch 1:  \n",
      "Loss:     1.3792 || Validation Accuracy: 0.495400\n",
      "Epoch  8, CIFAR-10 Batch 1:  \n",
      "Loss:     1.3072 || Validation Accuracy: 0.509600\n",
      "Epoch  9, CIFAR-10 Batch 1:  \n",
      "Loss:     1.2978 || Validation Accuracy: 0.520000\n",
      "Epoch 10, CIFAR-10 Batch 1:  \n",
      "Loss:     1.2524 || Validation Accuracy: 0.533600\n",
      "Epoch 11, CIFAR-10 Batch 1:  \n",
      "Loss:     1.1771 || Validation Accuracy: 0.551800\n",
      "Epoch 12, CIFAR-10 Batch 1:  \n",
      "Loss:     1.1134 || Validation Accuracy: 0.548800\n",
      "Epoch 13, CIFAR-10 Batch 1:  \n",
      "Loss:     1.0955 || Validation Accuracy: 0.555000\n",
      "Epoch 14, CIFAR-10 Batch 1:  \n",
      "Loss:     1.0093 || Validation Accuracy: 0.567800\n",
      "Epoch 15, CIFAR-10 Batch 1:  \n",
      "Loss:     0.9516 || Validation Accuracy: 0.572200\n",
      "Epoch 16, CIFAR-10 Batch 1:  \n",
      "Loss:     0.8882 || Validation Accuracy: 0.583000\n",
      "Epoch 17, CIFAR-10 Batch 1:  \n",
      "Loss:     0.8695 || Validation Accuracy: 0.584600\n",
      "Epoch 18, CIFAR-10 Batch 1:  \n",
      "Loss:     0.7661 || Validation Accuracy: 0.582400\n",
      "Epoch 19, CIFAR-10 Batch 1:  \n",
      "Loss:     0.7666 || Validation Accuracy: 0.593800\n",
      "Epoch 20, CIFAR-10 Batch 1:  \n",
      "Loss:     0.7284 || Validation Accuracy: 0.598400\n",
      "Epoch 21, CIFAR-10 Batch 1:  \n",
      "Loss:     0.6737 || Validation Accuracy: 0.598800\n",
      "Epoch 22, CIFAR-10 Batch 1:  \n",
      "Loss:     0.6207 || Validation Accuracy: 0.603400\n",
      "Epoch 23, CIFAR-10 Batch 1:  \n",
      "Loss:     0.6218 || Validation Accuracy: 0.602400\n",
      "Epoch 24, CIFAR-10 Batch 1:  \n",
      "Loss:     0.5646 || Validation Accuracy: 0.606800\n",
      "Epoch 25, CIFAR-10 Batch 1:  \n",
      "Loss:     0.5678 || Validation Accuracy: 0.606800\n",
      "Epoch 26, CIFAR-10 Batch 1:  \n",
      "Loss:     0.5051 || Validation Accuracy: 0.618600\n",
      "Epoch 27, CIFAR-10 Batch 1:  \n",
      "Loss:     0.4867 || Validation Accuracy: 0.613400\n",
      "Epoch 28, CIFAR-10 Batch 1:  \n",
      "Loss:     0.4971 || Validation Accuracy: 0.619400\n",
      "Epoch 29, CIFAR-10 Batch 1:  \n",
      "Loss:     0.4675 || Validation Accuracy: 0.619000\n",
      "Epoch 30, CIFAR-10 Batch 1:  \n",
      "Loss:     0.4387 || Validation Accuracy: 0.611000\n",
      "Epoch 31, CIFAR-10 Batch 1:  \n",
      "Loss:     0.3843 || Validation Accuracy: 0.626400\n",
      "Epoch 32, CIFAR-10 Batch 1:  \n",
      "Loss:     0.3883 || Validation Accuracy: 0.620200\n",
      "Epoch 33, CIFAR-10 Batch 1:  \n",
      "Loss:     0.3942 || Validation Accuracy: 0.625400\n",
      "Epoch 34, CIFAR-10 Batch 1:  \n",
      "Loss:     0.3461 || Validation Accuracy: 0.624200\n",
      "Epoch 35, CIFAR-10 Batch 1:  \n",
      "Loss:     0.3384 || Validation Accuracy: 0.620400\n",
      "Epoch 36, CIFAR-10 Batch 1:  \n",
      "Loss:     0.2804 || Validation Accuracy: 0.625200\n",
      "Epoch 37, CIFAR-10 Batch 1:  \n",
      "Loss:     0.2777 || Validation Accuracy: 0.625800\n",
      "Epoch 38, CIFAR-10 Batch 1:  \n",
      "Loss:     0.2326 || Validation Accuracy: 0.632400\n",
      "Epoch 39, CIFAR-10 Batch 1:  \n",
      "Loss:     0.2558 || Validation Accuracy: 0.614800\n",
      "Epoch 40, CIFAR-10 Batch 1:  \n",
      "Loss:     0.2356 || Validation Accuracy: 0.611200\n"
     ]
    }
   ],
   "source": [
    "\"\"\"\n",
    "DON'T MODIFY ANYTHING IN THIS CELL\n",
    "\"\"\"\n",
    "print('Checking the Training on a Single Batch...')\n",
    "with tf.Session() as sess:\n",
    "    # Initializing the variables\n",
    "    sess.run(tf.global_variables_initializer())\n",
    "    \n",
    "    # Training cycle\n",
    "    for epoch in range(epochs):\n",
    "        batch_i = 1\n",
    "        for batch_features, batch_labels in helper.load_preprocess_training_batch(batch_i, batch_size):\n",
    "            train_neural_network(sess, optimizer, keep_probability, batch_features, batch_labels)\n",
    "        print('Epoch {:>2}, CIFAR-10 Batch {}:  '.format(epoch + 1, batch_i))\n",
    "        print_stats(sess, batch_features, batch_labels, cost, accuracy)"
   ]
  },
  {
   "cell_type": "markdown",
   "metadata": {
    "deletable": true,
    "editable": true
   },
   "source": [
    "### Fully Train the Model\n",
    "Now that you got a good accuracy with a single CIFAR-10 batch, try it with all five batches."
   ]
  },
  {
   "cell_type": "code",
   "execution_count": 13,
   "metadata": {
    "collapsed": false,
    "deletable": true,
    "editable": true
   },
   "outputs": [
    {
     "name": "stdout",
     "output_type": "stream",
     "text": [
      "Training...\n",
      "Epoch  1, CIFAR-10 Batch 1:  \n",
      "Loss:     1.9707 || Validation Accuracy: 0.305200\n",
      "Epoch  1, CIFAR-10 Batch 2:  \n",
      "Loss:     1.6719 || Validation Accuracy: 0.383800\n",
      "Epoch  1, CIFAR-10 Batch 3:  \n",
      "Loss:     1.4305 || Validation Accuracy: 0.416200\n",
      "Epoch  1, CIFAR-10 Batch 4:  \n",
      "Loss:     1.5744 || Validation Accuracy: 0.449600\n",
      "Epoch  1, CIFAR-10 Batch 5:  \n",
      "Loss:     1.5417 || Validation Accuracy: 0.476400\n",
      "Epoch  2, CIFAR-10 Batch 1:  \n",
      "Loss:     1.6004 || Validation Accuracy: 0.462000\n",
      "Epoch  2, CIFAR-10 Batch 2:  \n",
      "Loss:     1.4390 || Validation Accuracy: 0.498800\n",
      "Epoch  2, CIFAR-10 Batch 3:  \n",
      "Loss:     1.1621 || Validation Accuracy: 0.509000\n",
      "Epoch  2, CIFAR-10 Batch 4:  \n",
      "Loss:     1.2835 || Validation Accuracy: 0.520600\n",
      "Epoch  2, CIFAR-10 Batch 5:  \n",
      "Loss:     1.3733 || Validation Accuracy: 0.526600\n",
      "Epoch  3, CIFAR-10 Batch 1:  \n",
      "Loss:     1.4005 || Validation Accuracy: 0.519800\n",
      "Epoch  3, CIFAR-10 Batch 2:  \n",
      "Loss:     1.2507 || Validation Accuracy: 0.536600\n",
      "Epoch  3, CIFAR-10 Batch 3:  \n",
      "Loss:     1.0735 || Validation Accuracy: 0.565400\n",
      "Epoch  3, CIFAR-10 Batch 4:  \n",
      "Loss:     1.1894 || Validation Accuracy: 0.575000\n",
      "Epoch  3, CIFAR-10 Batch 5:  \n",
      "Loss:     1.2956 || Validation Accuracy: 0.570200\n",
      "Epoch  4, CIFAR-10 Batch 1:  \n",
      "Loss:     1.1934 || Validation Accuracy: 0.579400\n",
      "Epoch  4, CIFAR-10 Batch 2:  \n",
      "Loss:     1.2274 || Validation Accuracy: 0.575600\n",
      "Epoch  4, CIFAR-10 Batch 3:  \n",
      "Loss:     1.0471 || Validation Accuracy: 0.584600\n",
      "Epoch  4, CIFAR-10 Batch 4:  \n",
      "Loss:     1.0414 || Validation Accuracy: 0.600800\n",
      "Epoch  4, CIFAR-10 Batch 5:  \n",
      "Loss:     1.1587 || Validation Accuracy: 0.610400\n",
      "Epoch  5, CIFAR-10 Batch 1:  \n",
      "Loss:     1.1045 || Validation Accuracy: 0.617200\n",
      "Epoch  5, CIFAR-10 Batch 2:  \n",
      "Loss:     1.1413 || Validation Accuracy: 0.603200\n",
      "Epoch  5, CIFAR-10 Batch 3:  \n",
      "Loss:     0.9958 || Validation Accuracy: 0.613800\n",
      "Epoch  5, CIFAR-10 Batch 4:  \n",
      "Loss:     1.0738 || Validation Accuracy: 0.598800\n",
      "Epoch  5, CIFAR-10 Batch 5:  \n",
      "Loss:     1.0432 || Validation Accuracy: 0.627200\n",
      "Epoch  6, CIFAR-10 Batch 1:  \n",
      "Loss:     1.0431 || Validation Accuracy: 0.629200\n",
      "Epoch  6, CIFAR-10 Batch 2:  \n",
      "Loss:     1.1098 || Validation Accuracy: 0.615000\n",
      "Epoch  6, CIFAR-10 Batch 3:  \n",
      "Loss:     0.8263 || Validation Accuracy: 0.633400\n",
      "Epoch  6, CIFAR-10 Batch 4:  \n",
      "Loss:     0.9178 || Validation Accuracy: 0.647200\n",
      "Epoch  6, CIFAR-10 Batch 5:  \n",
      "Loss:     0.9770 || Validation Accuracy: 0.632200\n",
      "Epoch  7, CIFAR-10 Batch 1:  \n",
      "Loss:     0.9409 || Validation Accuracy: 0.649600\n",
      "Epoch  7, CIFAR-10 Batch 2:  \n",
      "Loss:     1.0302 || Validation Accuracy: 0.658200\n",
      "Epoch  7, CIFAR-10 Batch 3:  \n",
      "Loss:     0.7704 || Validation Accuracy: 0.654400\n",
      "Epoch  7, CIFAR-10 Batch 4:  \n",
      "Loss:     0.8986 || Validation Accuracy: 0.660000\n",
      "Epoch  7, CIFAR-10 Batch 5:  \n",
      "Loss:     0.8434 || Validation Accuracy: 0.652000\n",
      "Epoch  8, CIFAR-10 Batch 1:  \n",
      "Loss:     0.9179 || Validation Accuracy: 0.667800\n",
      "Epoch  8, CIFAR-10 Batch 2:  \n",
      "Loss:     1.0057 || Validation Accuracy: 0.656400\n",
      "Epoch  8, CIFAR-10 Batch 3:  \n",
      "Loss:     0.7069 || Validation Accuracy: 0.662200\n",
      "Epoch  8, CIFAR-10 Batch 4:  \n",
      "Loss:     0.8433 || Validation Accuracy: 0.669400\n",
      "Epoch  8, CIFAR-10 Batch 5:  \n",
      "Loss:     0.8005 || Validation Accuracy: 0.660600\n",
      "Epoch  9, CIFAR-10 Batch 1:  \n",
      "Loss:     0.8605 || Validation Accuracy: 0.678800\n",
      "Epoch  9, CIFAR-10 Batch 2:  \n",
      "Loss:     0.9350 || Validation Accuracy: 0.683000\n",
      "Epoch  9, CIFAR-10 Batch 3:  \n",
      "Loss:     0.6495 || Validation Accuracy: 0.660600\n",
      "Epoch  9, CIFAR-10 Batch 4:  \n",
      "Loss:     0.9295 || Validation Accuracy: 0.652200\n",
      "Epoch  9, CIFAR-10 Batch 5:  \n",
      "Loss:     0.7805 || Validation Accuracy: 0.683600\n",
      "Epoch 10, CIFAR-10 Batch 1:  \n",
      "Loss:     0.7861 || Validation Accuracy: 0.692200\n",
      "Epoch 10, CIFAR-10 Batch 2:  \n",
      "Loss:     0.9345 || Validation Accuracy: 0.646600\n",
      "Epoch 10, CIFAR-10 Batch 3:  \n",
      "Loss:     0.6872 || Validation Accuracy: 0.658600\n",
      "Epoch 10, CIFAR-10 Batch 4:  \n",
      "Loss:     0.7874 || Validation Accuracy: 0.697000\n",
      "Epoch 10, CIFAR-10 Batch 5:  \n",
      "Loss:     0.7310 || Validation Accuracy: 0.679200\n",
      "Epoch 11, CIFAR-10 Batch 1:  \n",
      "Loss:     0.7539 || Validation Accuracy: 0.694000\n",
      "Epoch 11, CIFAR-10 Batch 2:  \n",
      "Loss:     0.7650 || Validation Accuracy: 0.682000\n",
      "Epoch 11, CIFAR-10 Batch 3:  \n",
      "Loss:     0.5926 || Validation Accuracy: 0.688800\n",
      "Epoch 11, CIFAR-10 Batch 4:  \n",
      "Loss:     0.7545 || Validation Accuracy: 0.689600\n",
      "Epoch 11, CIFAR-10 Batch 5:  \n",
      "Loss:     0.6743 || Validation Accuracy: 0.687800\n",
      "Epoch 12, CIFAR-10 Batch 1:  \n",
      "Loss:     0.7122 || Validation Accuracy: 0.694600\n",
      "Epoch 12, CIFAR-10 Batch 2:  \n",
      "Loss:     0.7261 || Validation Accuracy: 0.688400\n",
      "Epoch 12, CIFAR-10 Batch 3:  \n",
      "Loss:     0.5580 || Validation Accuracy: 0.681200\n",
      "Epoch 12, CIFAR-10 Batch 4:  \n",
      "Loss:     0.7208 || Validation Accuracy: 0.708400\n",
      "Epoch 12, CIFAR-10 Batch 5:  \n",
      "Loss:     0.6157 || Validation Accuracy: 0.700000\n",
      "Epoch 13, CIFAR-10 Batch 1:  \n",
      "Loss:     0.7275 || Validation Accuracy: 0.712400\n",
      "Epoch 13, CIFAR-10 Batch 2:  \n",
      "Loss:     0.6726 || Validation Accuracy: 0.712600\n",
      "Epoch 13, CIFAR-10 Batch 3:  \n",
      "Loss:     0.5138 || Validation Accuracy: 0.709800\n",
      "Epoch 13, CIFAR-10 Batch 4:  \n",
      "Loss:     0.6386 || Validation Accuracy: 0.712400\n",
      "Epoch 13, CIFAR-10 Batch 5:  \n",
      "Loss:     0.6898 || Validation Accuracy: 0.709800\n",
      "Epoch 14, CIFAR-10 Batch 1:  \n",
      "Loss:     0.7154 || Validation Accuracy: 0.714000\n",
      "Epoch 14, CIFAR-10 Batch 2:  \n",
      "Loss:     0.6610 || Validation Accuracy: 0.707200\n",
      "Epoch 14, CIFAR-10 Batch 3:  \n",
      "Loss:     0.5293 || Validation Accuracy: 0.706400\n",
      "Epoch 14, CIFAR-10 Batch 4:  \n",
      "Loss:     0.6729 || Validation Accuracy: 0.701200\n",
      "Epoch 14, CIFAR-10 Batch 5:  \n",
      "Loss:     0.5443 || Validation Accuracy: 0.708200\n",
      "Epoch 15, CIFAR-10 Batch 1:  \n",
      "Loss:     0.6656 || Validation Accuracy: 0.720000\n",
      "Epoch 15, CIFAR-10 Batch 2:  \n",
      "Loss:     0.5745 || Validation Accuracy: 0.707400\n",
      "Epoch 15, CIFAR-10 Batch 3:  \n",
      "Loss:     0.4626 || Validation Accuracy: 0.716000\n",
      "Epoch 15, CIFAR-10 Batch 4:  \n",
      "Loss:     0.6687 || Validation Accuracy: 0.712800\n",
      "Epoch 15, CIFAR-10 Batch 5:  \n",
      "Loss:     0.5630 || Validation Accuracy: 0.714600\n",
      "Epoch 16, CIFAR-10 Batch 1:  \n",
      "Loss:     0.5955 || Validation Accuracy: 0.720400\n",
      "Epoch 16, CIFAR-10 Batch 2:  \n",
      "Loss:     0.5779 || Validation Accuracy: 0.719600\n",
      "Epoch 16, CIFAR-10 Batch 3:  \n",
      "Loss:     0.4948 || Validation Accuracy: 0.715800\n",
      "Epoch 16, CIFAR-10 Batch 4:  \n",
      "Loss:     0.5965 || Validation Accuracy: 0.715600\n",
      "Epoch 16, CIFAR-10 Batch 5:  \n",
      "Loss:     0.5896 || Validation Accuracy: 0.716200\n",
      "Epoch 17, CIFAR-10 Batch 1:  \n",
      "Loss:     0.6661 || Validation Accuracy: 0.730600\n",
      "Epoch 17, CIFAR-10 Batch 2:  \n",
      "Loss:     0.6143 || Validation Accuracy: 0.732200\n",
      "Epoch 17, CIFAR-10 Batch 3:  \n",
      "Loss:     0.4881 || Validation Accuracy: 0.721000\n",
      "Epoch 17, CIFAR-10 Batch 4:  \n",
      "Loss:     0.5842 || Validation Accuracy: 0.720200\n",
      "Epoch 17, CIFAR-10 Batch 5:  \n",
      "Loss:     0.4811 || Validation Accuracy: 0.722800\n",
      "Epoch 18, CIFAR-10 Batch 1:  \n",
      "Loss:     0.6188 || Validation Accuracy: 0.726400\n",
      "Epoch 18, CIFAR-10 Batch 2:  \n",
      "Loss:     0.6099 || Validation Accuracy: 0.714000\n",
      "Epoch 18, CIFAR-10 Batch 3:  \n",
      "Loss:     0.4659 || Validation Accuracy: 0.719200\n",
      "Epoch 18, CIFAR-10 Batch 4:  \n",
      "Loss:     0.5658 || Validation Accuracy: 0.727400\n",
      "Epoch 18, CIFAR-10 Batch 5:  \n",
      "Loss:     0.5563 || Validation Accuracy: 0.713600\n",
      "Epoch 19, CIFAR-10 Batch 1:  \n",
      "Loss:     0.5775 || Validation Accuracy: 0.724800\n",
      "Epoch 19, CIFAR-10 Batch 2:  \n",
      "Loss:     0.5296 || Validation Accuracy: 0.721200\n",
      "Epoch 19, CIFAR-10 Batch 3:  \n",
      "Loss:     0.4171 || Validation Accuracy: 0.725600\n",
      "Epoch 19, CIFAR-10 Batch 4:  \n",
      "Loss:     0.5627 || Validation Accuracy: 0.730800\n",
      "Epoch 19, CIFAR-10 Batch 5:  \n",
      "Loss:     0.4996 || Validation Accuracy: 0.716000\n",
      "Epoch 20, CIFAR-10 Batch 1:  \n",
      "Loss:     0.5743 || Validation Accuracy: 0.725200\n",
      "Epoch 20, CIFAR-10 Batch 2:  \n",
      "Loss:     0.5439 || Validation Accuracy: 0.729200\n",
      "Epoch 20, CIFAR-10 Batch 3:  \n",
      "Loss:     0.4099 || Validation Accuracy: 0.732200\n",
      "Epoch 20, CIFAR-10 Batch 4:  \n",
      "Loss:     0.5286 || Validation Accuracy: 0.733200\n",
      "Epoch 20, CIFAR-10 Batch 5:  \n",
      "Loss:     0.5376 || Validation Accuracy: 0.706000\n",
      "Epoch 21, CIFAR-10 Batch 1:  \n",
      "Loss:     0.5101 || Validation Accuracy: 0.733200\n",
      "Epoch 21, CIFAR-10 Batch 2:  \n",
      "Loss:     0.6170 || Validation Accuracy: 0.721000\n",
      "Epoch 21, CIFAR-10 Batch 3:  \n",
      "Loss:     0.4514 || Validation Accuracy: 0.718800\n",
      "Epoch 21, CIFAR-10 Batch 4:  \n",
      "Loss:     0.5268 || Validation Accuracy: 0.732800\n",
      "Epoch 21, CIFAR-10 Batch 5:  \n",
      "Loss:     0.4738 || Validation Accuracy: 0.716600\n",
      "Epoch 22, CIFAR-10 Batch 1:  \n",
      "Loss:     0.4758 || Validation Accuracy: 0.727600\n",
      "Epoch 22, CIFAR-10 Batch 2:  \n",
      "Loss:     0.5021 || Validation Accuracy: 0.726600\n",
      "Epoch 22, CIFAR-10 Batch 3:  \n",
      "Loss:     0.3264 || Validation Accuracy: 0.734000\n",
      "Epoch 22, CIFAR-10 Batch 4:  \n",
      "Loss:     0.5663 || Validation Accuracy: 0.720000\n",
      "Epoch 22, CIFAR-10 Batch 5:  \n",
      "Loss:     0.3729 || Validation Accuracy: 0.740000\n",
      "Epoch 23, CIFAR-10 Batch 1:  \n",
      "Loss:     0.5453 || Validation Accuracy: 0.738400\n",
      "Epoch 23, CIFAR-10 Batch 2:  \n",
      "Loss:     0.4734 || Validation Accuracy: 0.742200\n",
      "Epoch 23, CIFAR-10 Batch 3:  \n",
      "Loss:     0.3484 || Validation Accuracy: 0.729200\n",
      "Epoch 23, CIFAR-10 Batch 4:  \n",
      "Loss:     0.5313 || Validation Accuracy: 0.730600\n",
      "Epoch 23, CIFAR-10 Batch 5:  \n",
      "Loss:     0.4836 || Validation Accuracy: 0.716400\n",
      "Epoch 24, CIFAR-10 Batch 1:  \n",
      "Loss:     0.5266 || Validation Accuracy: 0.732600\n",
      "Epoch 24, CIFAR-10 Batch 2:  \n",
      "Loss:     0.5269 || Validation Accuracy: 0.721800\n",
      "Epoch 24, CIFAR-10 Batch 3:  \n",
      "Loss:     0.3033 || Validation Accuracy: 0.736600\n",
      "Epoch 24, CIFAR-10 Batch 4:  \n",
      "Loss:     0.5398 || Validation Accuracy: 0.726400\n",
      "Epoch 24, CIFAR-10 Batch 5:  \n",
      "Loss:     0.4014 || Validation Accuracy: 0.725200\n",
      "Epoch 25, CIFAR-10 Batch 1:  \n",
      "Loss:     0.5343 || Validation Accuracy: 0.740400\n",
      "Epoch 25, CIFAR-10 Batch 2:  \n",
      "Loss:     0.4757 || Validation Accuracy: 0.737000\n",
      "Epoch 25, CIFAR-10 Batch 3:  \n",
      "Loss:     0.3737 || Validation Accuracy: 0.731000\n",
      "Epoch 25, CIFAR-10 Batch 4:  \n",
      "Loss:     0.5087 || Validation Accuracy: 0.739000\n",
      "Epoch 25, CIFAR-10 Batch 5:  \n",
      "Loss:     0.4140 || Validation Accuracy: 0.731800\n",
      "Epoch 26, CIFAR-10 Batch 1:  \n",
      "Loss:     0.4393 || Validation Accuracy: 0.746800\n",
      "Epoch 26, CIFAR-10 Batch 2:  \n",
      "Loss:     0.4188 || Validation Accuracy: 0.739800\n",
      "Epoch 26, CIFAR-10 Batch 3:  \n",
      "Loss:     0.3503 || Validation Accuracy: 0.741000\n",
      "Epoch 26, CIFAR-10 Batch 4:  \n",
      "Loss:     0.4564 || Validation Accuracy: 0.737200\n",
      "Epoch 26, CIFAR-10 Batch 5:  \n",
      "Loss:     0.3918 || Validation Accuracy: 0.736400\n",
      "Epoch 27, CIFAR-10 Batch 1:  \n",
      "Loss:     0.4068 || Validation Accuracy: 0.733600\n",
      "Epoch 27, CIFAR-10 Batch 2:  \n",
      "Loss:     0.4623 || Validation Accuracy: 0.723400\n",
      "Epoch 27, CIFAR-10 Batch 3:  \n",
      "Loss:     0.3514 || Validation Accuracy: 0.739200\n",
      "Epoch 27, CIFAR-10 Batch 4:  \n",
      "Loss:     0.4269 || Validation Accuracy: 0.740200\n",
      "Epoch 27, CIFAR-10 Batch 5:  \n",
      "Loss:     0.3500 || Validation Accuracy: 0.737800\n",
      "Epoch 28, CIFAR-10 Batch 1:  \n",
      "Loss:     0.4705 || Validation Accuracy: 0.740200\n",
      "Epoch 28, CIFAR-10 Batch 2:  \n",
      "Loss:     0.3910 || Validation Accuracy: 0.740400\n",
      "Epoch 28, CIFAR-10 Batch 3:  \n",
      "Loss:     0.2707 || Validation Accuracy: 0.736400\n",
      "Epoch 28, CIFAR-10 Batch 4:  \n",
      "Loss:     0.4693 || Validation Accuracy: 0.740600\n",
      "Epoch 28, CIFAR-10 Batch 5:  \n",
      "Loss:     0.3000 || Validation Accuracy: 0.739200\n",
      "Epoch 29, CIFAR-10 Batch 1:  \n",
      "Loss:     0.3569 || Validation Accuracy: 0.749000\n",
      "Epoch 29, CIFAR-10 Batch 2:  \n",
      "Loss:     0.4464 || Validation Accuracy: 0.734600\n",
      "Epoch 29, CIFAR-10 Batch 3:  \n",
      "Loss:     0.3557 || Validation Accuracy: 0.728000\n",
      "Epoch 29, CIFAR-10 Batch 4:  \n",
      "Loss:     0.4506 || Validation Accuracy: 0.740800\n",
      "Epoch 29, CIFAR-10 Batch 5:  \n",
      "Loss:     0.3250 || Validation Accuracy: 0.734800\n",
      "Epoch 30, CIFAR-10 Batch 1:  \n",
      "Loss:     0.4128 || Validation Accuracy: 0.743200\n",
      "Epoch 30, CIFAR-10 Batch 2:  \n",
      "Loss:     0.3633 || Validation Accuracy: 0.747400\n",
      "Epoch 30, CIFAR-10 Batch 3:  \n",
      "Loss:     0.2918 || Validation Accuracy: 0.741800\n",
      "Epoch 30, CIFAR-10 Batch 4:  \n",
      "Loss:     0.4118 || Validation Accuracy: 0.746200\n",
      "Epoch 30, CIFAR-10 Batch 5:  \n",
      "Loss:     0.4002 || Validation Accuracy: 0.719000\n",
      "Epoch 31, CIFAR-10 Batch 1:  \n",
      "Loss:     0.3014 || Validation Accuracy: 0.746800\n",
      "Epoch 31, CIFAR-10 Batch 2:  \n",
      "Loss:     0.4520 || Validation Accuracy: 0.727400\n",
      "Epoch 31, CIFAR-10 Batch 3:  \n",
      "Loss:     0.2599 || Validation Accuracy: 0.746200\n",
      "Epoch 31, CIFAR-10 Batch 4:  \n",
      "Loss:     0.4033 || Validation Accuracy: 0.745800\n",
      "Epoch 31, CIFAR-10 Batch 5:  \n",
      "Loss:     0.3871 || Validation Accuracy: 0.731200\n",
      "Epoch 32, CIFAR-10 Batch 1:  \n",
      "Loss:     0.3921 || Validation Accuracy: 0.738800\n",
      "Epoch 32, CIFAR-10 Batch 2:  \n",
      "Loss:     0.4090 || Validation Accuracy: 0.738200\n",
      "Epoch 32, CIFAR-10 Batch 3:  \n",
      "Loss:     0.2606 || Validation Accuracy: 0.747600\n",
      "Epoch 32, CIFAR-10 Batch 4:  \n",
      "Loss:     0.3812 || Validation Accuracy: 0.752600\n",
      "Epoch 32, CIFAR-10 Batch 5:  \n",
      "Loss:     0.3089 || Validation Accuracy: 0.754800\n",
      "Epoch 33, CIFAR-10 Batch 1:  \n",
      "Loss:     0.2945 || Validation Accuracy: 0.750600\n",
      "Epoch 33, CIFAR-10 Batch 2:  \n",
      "Loss:     0.3420 || Validation Accuracy: 0.741200\n",
      "Epoch 33, CIFAR-10 Batch 3:  \n",
      "Loss:     0.3596 || Validation Accuracy: 0.744800\n",
      "Epoch 33, CIFAR-10 Batch 4:  \n",
      "Loss:     0.3732 || Validation Accuracy: 0.749200\n",
      "Epoch 33, CIFAR-10 Batch 5:  \n",
      "Loss:     0.3769 || Validation Accuracy: 0.724400\n",
      "Epoch 34, CIFAR-10 Batch 1:  \n",
      "Loss:     0.3387 || Validation Accuracy: 0.747400\n",
      "Epoch 34, CIFAR-10 Batch 2:  \n",
      "Loss:     0.3254 || Validation Accuracy: 0.747000\n",
      "Epoch 34, CIFAR-10 Batch 3:  \n",
      "Loss:     0.2816 || Validation Accuracy: 0.733200\n",
      "Epoch 34, CIFAR-10 Batch 4:  \n",
      "Loss:     0.4165 || Validation Accuracy: 0.749200\n",
      "Epoch 34, CIFAR-10 Batch 5:  \n",
      "Loss:     0.3557 || Validation Accuracy: 0.742400\n",
      "Epoch 35, CIFAR-10 Batch 1:  \n",
      "Loss:     0.4228 || Validation Accuracy: 0.728800\n",
      "Epoch 35, CIFAR-10 Batch 2:  \n",
      "Loss:     0.3455 || Validation Accuracy: 0.744400\n",
      "Epoch 35, CIFAR-10 Batch 3:  \n",
      "Loss:     0.2694 || Validation Accuracy: 0.744000\n",
      "Epoch 35, CIFAR-10 Batch 4:  \n",
      "Loss:     0.4436 || Validation Accuracy: 0.742400\n",
      "Epoch 35, CIFAR-10 Batch 5:  \n",
      "Loss:     0.3178 || Validation Accuracy: 0.735000\n",
      "Epoch 36, CIFAR-10 Batch 1:  \n",
      "Loss:     0.3058 || Validation Accuracy: 0.750400\n",
      "Epoch 36, CIFAR-10 Batch 2:  \n",
      "Loss:     0.4156 || Validation Accuracy: 0.738200\n",
      "Epoch 36, CIFAR-10 Batch 3:  \n",
      "Loss:     0.1819 || Validation Accuracy: 0.759000\n",
      "Epoch 36, CIFAR-10 Batch 4:  \n",
      "Loss:     0.3571 || Validation Accuracy: 0.752000\n",
      "Epoch 36, CIFAR-10 Batch 5:  \n",
      "Loss:     0.2983 || Validation Accuracy: 0.743400\n",
      "Epoch 37, CIFAR-10 Batch 1:  \n",
      "Loss:     0.3132 || Validation Accuracy: 0.747000\n",
      "Epoch 37, CIFAR-10 Batch 2:  \n",
      "Loss:     0.2439 || Validation Accuracy: 0.738600\n",
      "Epoch 37, CIFAR-10 Batch 3:  \n",
      "Loss:     0.1871 || Validation Accuracy: 0.748000\n",
      "Epoch 37, CIFAR-10 Batch 4:  \n",
      "Loss:     0.3989 || Validation Accuracy: 0.742400\n",
      "Epoch 37, CIFAR-10 Batch 5:  \n",
      "Loss:     0.3014 || Validation Accuracy: 0.737600\n",
      "Epoch 38, CIFAR-10 Batch 1:  \n",
      "Loss:     0.3311 || Validation Accuracy: 0.739000\n",
      "Epoch 38, CIFAR-10 Batch 2:  \n",
      "Loss:     0.3377 || Validation Accuracy: 0.736400\n",
      "Epoch 38, CIFAR-10 Batch 3:  \n",
      "Loss:     0.2387 || Validation Accuracy: 0.735000\n",
      "Epoch 38, CIFAR-10 Batch 4:  \n",
      "Loss:     0.3559 || Validation Accuracy: 0.743600\n",
      "Epoch 38, CIFAR-10 Batch 5:  \n",
      "Loss:     0.2979 || Validation Accuracy: 0.736600\n",
      "Epoch 39, CIFAR-10 Batch 1:  \n",
      "Loss:     0.3573 || Validation Accuracy: 0.742400\n",
      "Epoch 39, CIFAR-10 Batch 2:  \n",
      "Loss:     0.3413 || Validation Accuracy: 0.741200\n",
      "Epoch 39, CIFAR-10 Batch 3:  \n",
      "Loss:     0.2788 || Validation Accuracy: 0.746000\n",
      "Epoch 39, CIFAR-10 Batch 4:  \n",
      "Loss:     0.4271 || Validation Accuracy: 0.741000\n",
      "Epoch 39, CIFAR-10 Batch 5:  \n",
      "Loss:     0.2869 || Validation Accuracy: 0.737400\n",
      "Epoch 40, CIFAR-10 Batch 1:  \n",
      "Loss:     0.2899 || Validation Accuracy: 0.754600\n",
      "Epoch 40, CIFAR-10 Batch 2:  \n",
      "Loss:     0.3173 || Validation Accuracy: 0.745400\n",
      "Epoch 40, CIFAR-10 Batch 3:  \n",
      "Loss:     0.2643 || Validation Accuracy: 0.745400\n",
      "Epoch 40, CIFAR-10 Batch 4:  \n",
      "Loss:     0.3557 || Validation Accuracy: 0.751400\n",
      "Epoch 40, CIFAR-10 Batch 5:  \n",
      "Loss:     0.2335 || Validation Accuracy: 0.749800\n"
     ]
    }
   ],
   "source": [
    "\"\"\"\n",
    "DON'T MODIFY ANYTHING IN THIS CELL\n",
    "\"\"\"\n",
    "save_model_path = './image_classification'\n",
    "\n",
    "print('Training...')\n",
    "with tf.Session() as sess:\n",
    "    # Initializing the variables\n",
    "    sess.run(tf.global_variables_initializer())\n",
    "    \n",
    "    # Training cycle\n",
    "    for epoch in range(epochs):\n",
    "        # Loop over all batches\n",
    "        n_batches = 5\n",
    "        for batch_i in range(1, n_batches + 1):\n",
    "            for batch_features, batch_labels in helper.load_preprocess_training_batch(batch_i, batch_size):\n",
    "                train_neural_network(sess, optimizer, keep_probability, batch_features, batch_labels)\n",
    "            print('Epoch {:>2}, CIFAR-10 Batch {}:  '.format(epoch + 1, batch_i))\n",
    "            print_stats(sess, batch_features, batch_labels, cost, accuracy)\n",
    "            \n",
    "    # Save Model\n",
    "    saver = tf.train.Saver()\n",
    "    save_path = saver.save(sess, save_model_path)"
   ]
  },
  {
   "cell_type": "markdown",
   "metadata": {
    "deletable": true,
    "editable": true
   },
   "source": [
    "# Checkpoint\n",
    "The model has been saved to disk.\n",
    "## Test Model\n",
    "Test your model against the test dataset.  This will be your final accuracy. You should have an accuracy greater than 50%. If you don't, keep tweaking the model architecture and parameters."
   ]
  },
  {
   "cell_type": "code",
   "execution_count": 14,
   "metadata": {
    "collapsed": false,
    "deletable": true,
    "editable": true
   },
   "outputs": [
    {
     "name": "stdout",
     "output_type": "stream",
     "text": [
      "Testing Accuracy: 0.738156847133758\n",
      "\n"
     ]
    },
    {
     "data": {
      "image/png": "[encoded data removed]",
      "text/plain": [
       "<matplotlib.figure.Figure at 0x452feb8>"
      ]
     },
     "metadata": {
      "image/png": {
       "height": 319,
       "width": 355
      }
     },
     "output_type": "display_data"
    }
   ],
   "source": [
    "\"\"\"\n",
    "DON'T MODIFY ANYTHING IN THIS CELL\n",
    "\"\"\"\n",
    "%matplotlib inline\n",
    "%config InlineBackend.figure_format = 'retina'\n",
    "\n",
    "import tensorflow as tf\n",
    "import pickle\n",
    "import helper\n",
    "import random\n",
    "\n",
    "# Set batch size if not already set\n",
    "try:\n",
    "    if batch_size:\n",
    "        pass\n",
    "except NameError:\n",
    "    batch_size = 64\n",
    "\n",
    "save_model_path = './image_classification'\n",
    "n_samples = 4\n",
    "top_n_predictions = 3\n",
    "\n",
    "def test_model():\n",
    "    \"\"\"\n",
    "    Test the saved model against the test dataset\n",
    "    \"\"\"\n",
    "\n",
    "    test_features, test_labels = pickle.load(open('preprocess_training.p', mode='rb'))\n",
    "    loaded_graph = tf.Graph()\n",
    "\n",
    "    with tf.Session(graph=loaded_graph) as sess:\n",
    "        # Load model\n",
    "        loader = tf.train.import_meta_graph(save_model_path + '.meta')\n",
    "        loader.restore(sess, save_model_path)\n",
    "\n",
    "        # Get Tensors from loaded model\n",
    "        loaded_x = loaded_graph.get_tensor_by_name('x:0')\n",
    "        loaded_y = loaded_graph.get_tensor_by_name('y:0')\n",
    "        loaded_keep_prob = loaded_graph.get_tensor_by_name('keep_prob:0')\n",
    "        loaded_logits = loaded_graph.get_tensor_by_name('logits:0')\n",
    "        loaded_acc = loaded_graph.get_tensor_by_name('accuracy:0')\n",
    "        \n",
    "        # Get accuracy in batches for memory limitations\n",
    "        test_batch_acc_total = 0\n",
    "        test_batch_count = 0\n",
    "        \n",
    "        for train_feature_batch, train_label_batch in helper.batch_features_labels(test_features, test_labels, batch_size):\n",
    "            test_batch_acc_total += sess.run(\n",
    "                loaded_acc,\n",
    "                feed_dict={loaded_x: train_feature_batch, loaded_y: train_label_batch, loaded_keep_prob: 1.0})\n",
    "            test_batch_count += 1\n",
    "\n",
    "        print('Testing Accuracy: {}\\n'.format(test_batch_acc_total/test_batch_count))\n",
    "\n",
    "        # Print Random Samples\n",
    "        random_test_features, random_test_labels = tuple(zip(*random.sample(list(zip(test_features, test_labels)), n_samples)))\n",
    "        random_test_predictions = sess.run(\n",
    "            tf.nn.top_k(tf.nn.softmax(loaded_logits), top_n_predictions),\n",
    "            feed_dict={loaded_x: random_test_features, loaded_y: random_test_labels, loaded_keep_prob: 1.0})\n",
    "        helper.display_image_predictions(random_test_features, random_test_labels, random_test_predictions)\n",
    "\n",
    "\n",
    "test_model()"
   ]
  },
  {
   "cell_type": "markdown",
   "metadata": {
    "deletable": true,
    "editable": true
   },
   "source": [
    "## Why 50-80% Accuracy?\n",
    "You might be wondering why you can't get an accuracy any higher. First things first, 50% isn't bad for a simple CNN.  Pure guessing would get you 10% accuracy. That's because there are many more techniques that can be applied to your model and we recemmond that once you are done with this project, you explore!\n",
    "\n",
    "## Submitting This Project\n",
    "When submitting this project, make sure to run all the cells before saving the notebook.  Save the notebook file as \"dlnd_image_classification.ipynb\" and save it as a HTML file under \"File\" -> \"Download as\".  Include the \"helper.py\" and \"problem_unittests.py\" files in your submission."
   ]
  },
  {
   "cell_type": "code",
   "execution_count": null,
   "metadata": {
    "collapsed": true,
    "deletable": true,
    "editable": true
   },
   "outputs": [],
   "source": []
  }
 ],
 "metadata": {
  "kernelspec": {
   "display_name": "Python 3",
   "language": "python",
   "name": "python3"
  },
  "language_info": {
   "codemirror_mode": {
    "name": "ipython",
    "version": 3
   },
   "file_extension": ".py",
   "mimetype": "text/x-python",
   "name": "python",
   "nbconvert_exporter": "python",
   "pygments_lexer": "ipython3",
   "version": "3.5.3"
  }
 },
 "nbformat": 4,
 "nbformat_minor": 0
}
